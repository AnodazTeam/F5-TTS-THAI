{
  "cells": [
    {
      "cell_type": "markdown",
      "metadata": {
        "id": "fXnq08ZVNMAh"
      },
      "source": [
        "# ติดตั้ง"
      ]
    },
    {
      "cell_type": "code",
      "execution_count": null,
      "metadata": {
        "id": "tTdQJcckmuZ4"
      },
      "outputs": [],
      "source": [
        "!git clone https://github.com/VYNCX/F5-TTS-THAI.git\n",
        "%cd F5-TTS-THAI\n",
        "!pip install git+https://github.com/VYNCX/F5-TTS-THAI.git"
      ]
    },
    {
      "cell_type": "markdown",
      "metadata": {
        "id": "wJNZvZB7PXSI"
      },
      "source": [
        "# ใช้งาน"
      ]
    },
    {
      "cell_type": "code",
      "execution_count": null,
      "metadata": {
        "id": "UoKmwDmfm6qP"
      },
      "outputs": [],
      "source": [
        "!python src/f5_tts/f5_tts_webui.py --share"
      ]
    },
    {
      "cell_type": "markdown",
      "metadata": {
        "id": "94MRyRcQeJ0I"
      },
      "source": [
        "# ฝึกอบรม หรือ Finetune ภาษาไทย"
      ]
    },
    {
      "cell_type": "code",
      "execution_count": null,
      "metadata": {
        "id": "MTHlebl3egsA"
      },
      "outputs": [],
      "source": [
        "!pip install -e ."
      ]
    },
    {
      "cell_type": "code",
      "execution_count": null,
      "metadata": {
        "id": "lKEt-pLfR413"
      },
      "outputs": [],
      "source": [
        "%cd /content/F5-TTS-THAI\n",
        "!f5-tts_finetune-gradio --share"
      ]
    }
  ],
  "metadata": {
    "accelerator": "GPU",
    "colab": {
      "gpuType": "T4",
      "provenance": []
    },
    "kernelspec": {
      "display_name": "Python 3",
      "name": "python3"
    },
    "language_info": {
      "name": "python"
    }
  },
  "nbformat": 4,
  "nbformat_minor": 0
}
